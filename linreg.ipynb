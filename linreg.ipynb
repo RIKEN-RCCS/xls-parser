{
 "cells": [
  {
   "cell_type": "code",
   "execution_count": null,
   "id": "a13db237",
   "metadata": {},
   "outputs": [],
   "source": [
    "import pandas as pd\n",
    "import ipywidgets as widgets\n",
    "from pandas.api.types import is_numeric_dtype\n",
    "from sklearn.linear_model import LinearRegression\n",
    "\n",
    "class Checkboxes:\n",
    "    def __init__(self, columns):\n",
    "        self.columns = columns\n",
    "        self.checkboxes = {}\n",
    "        self.checkboxes[\"norm\"] = self.create_cols(\"Normalise\")\n",
    "        self.checkboxes[\"drop\"] = self.create_cols(\"Drop\")\n",
    "        self.checkboxes[\"both\"] = widgets.HBox(list(self.checkboxes.values()))\n",
    "        self.SPEC_RAW = []\n",
    "        for cb in self.get_raw(\"norm\"):\n",
    "            cb.value = True\n",
    "\n",
    "    def create_cols(self, name: str):\n",
    "        return widgets.VBox([widgets.Label(value=name)] + [widgets.Checkbox(\n",
    "            value=False,\n",
    "            description=label,\n",
    "            disabled=False,\n",
    "            indent=False) for label in self.columns])\n",
    "\n",
    "    def get_index(self, value: str):\n",
    "        # adjust for the + 1 label!\n",
    "        return list(self.columns).index(value) + 1\n",
    "\n",
    "    def get_widget(self, cb_col: str, label: str):\n",
    "        return self.checkboxes[cb_col].children[self.get_index(label)]\n",
    "\n",
    "    def get_column_names(self, cb_col: str):\n",
    "        return [col for col in self.columns if self.get_widget(cb_col, col).value]\n",
    "\n",
    "    def show(self):\n",
    "        return self.checkboxes[\"both\"]\n",
    "\n",
    "    def is_raw(self, cb):\n",
    "        return cb.description.startswith(\"0x\") or cb.description in self.SPEC_RAW\n",
    "\n",
    "    def get_raw(self, cb_col: str):\n",
    "        cboxes = self.checkboxes[cb_col].children\n",
    "        return [cb for cb in cboxes if self.is_raw(cb)]\n"
   ]
  },
  {
   "cell_type": "code",
   "execution_count": null,
   "id": "8fc8df14",
   "metadata": {},
   "outputs": [],
   "source": [
    "import linreg\n",
    "data = linreg.get_data(\"~/Sync/all.tsv\", \"~/Sync/polybench.tsv\")\n",
    "checkboxes = Checkboxes(data.columns)\n",
    "checkboxes.show()"
   ]
  },
  {
   "cell_type": "code",
   "execution_count": null,
   "id": "f25771d4",
   "metadata": {},
   "outputs": [],
   "source": [
    "norm_cols = checkboxes.get_column_names(\"norm\")\n",
    "drop_cols = checkboxes.get_column_names(\"drop\")\n",
    "X, y = linreg.normalise(data, norm_cols, drop_cols)\n",
    "reg = LinearRegression().fit(X, y)\n",
    "print(f\"Score: {reg.score(X, y)}\")\n",
    "\n",
    "coefs = sorted(zip(X.columns, reg.coef_), key=lambda t: t[1], reverse=True)\n",
    "linreg.print_results(coefs)\n",
    "print(reg.intercept_)\n"
   ]
  }
 ],
 "metadata": {
  "kernelspec": {
   "display_name": "Python 3 (ipykernel)",
   "language": "python",
   "name": "python3"
  },
  "language_info": {
   "codemirror_mode": {
    "name": "ipython",
    "version": 3
   },
   "file_extension": ".py",
   "mimetype": "text/x-python",
   "name": "python",
   "nbconvert_exporter": "python",
   "pygments_lexer": "ipython3",
   "version": "3.10.1"
  }
 },
 "nbformat": 4,
 "nbformat_minor": 5
}
