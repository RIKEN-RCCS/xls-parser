{
 "cells": [
  {
   "cell_type": "code",
   "execution_count": null,
   "id": "a13db237",
   "metadata": {},
   "outputs": [],
   "source": [
    "import pandas as pd\n",
    "import ipywidgets as widgets\n",
    "from pandas.api.types import is_numeric_dtype\n",
    "from sklearn.linear_model import LinearRegression\n",
    "\n",
    "class ToggleButtons:\n",
    "    class Row(widgets.HBox):\n",
    "        def __init__(self, name, options):\n",
    "            self.toggle_buttons = widgets.ToggleButtons(options=options)\n",
    "            self.label = widgets.Label(value=name, layout={\"width\": \"400px\"})\n",
    "            super().__init__([self.label, self.toggle_buttons])\n",
    "\n",
    "        @property\n",
    "        def name(self):\n",
    "            return self.label.value\n",
    "        \n",
    "        @property\n",
    "        def value(self):\n",
    "            return self.toggle_buttons.value\n",
    "\n",
    "        @value.setter\n",
    "        def value(self, value):\n",
    "            self.toggle_buttons.value = value\n",
    "        \n",
    "        def is_raw(self):\n",
    "            raw = [\"CNTVCT\", \"PMCCNTR\"]\n",
    "            return self.name.startswith(\"0x\") or self.name in raw\n",
    "        \n",
    "        def is_absolute(self):\n",
    "            relative = [\"%\", \"rate\", \"throughput\"]\n",
    "            return not any([(r in self.name) for r in relative]) and not self.is_raw()\n",
    "\n",
    "        def should_drop(self):\n",
    "            drop_list = [\n",
    "                \"Statistics::Execution time (s)\", \n",
    "                \"Difference\",\n",
    "            ]\n",
    "            return self.name in drop_list\n",
    "\n",
    "    def __init__(self, columns):\n",
    "        self.columns = columns\n",
    "        self.OPTIONS = ['Keep', 'Normalise', 'Drop']\n",
    "        \n",
    "        rows = [self.Row(col, self.OPTIONS) for col in columns]\n",
    "        self.rows = widgets.VBox(rows)\n",
    "        \n",
    "        self.set_if_true(\"Drop\", self.Row.is_raw)\n",
    "        self.set_if_true(\"Normalise\", self.Row.is_absolute)\n",
    "        self.set_if_true(\"Drop\", self.Row.should_drop)\n",
    "    \n",
    "    def get_labels(self, option: str):\n",
    "        assert option in self.OPTIONS\n",
    "        rows = self.rows.children\n",
    "        return [row.name for row in rows if row.value == option]\n",
    "\n",
    "    def set_if_true(self, option: str, fn):\n",
    "        assert option in self.OPTIONS\n",
    "        for row in self.rows.children:\n",
    "            if fn(row):\n",
    "                row.value = option\n"
   ]
  },
  {
   "cell_type": "code",
   "execution_count": null,
   "id": "8fc8df14",
   "metadata": {},
   "outputs": [],
   "source": [
    "import linreg\n",
    "data = linreg.get_data(\"~/Sync/all.tsv\", \"~/Sync/polybench.tsv\")\n",
    "tbs = ToggleButtons(data.columns)\n",
    "tbs.rows"
   ]
  },
  {
   "cell_type": "code",
   "execution_count": null,
   "id": "f25771d4",
   "metadata": {},
   "outputs": [],
   "source": [
    "norm_cols = tbs.get_labels(\"Normalise\")\n",
    "drop_cols = tbs.get_labels(\"Drop\")\n",
    "X, y = linreg.normalise(data, norm_cols, drop_cols)\n",
    "reg = LinearRegression().fit(X, y)\n",
    "print(f\"Score: {reg.score(X, y)}\")\n",
    "\n",
    "coefs = sorted(zip(X.columns, reg.coef_), key=lambda t: t[1], reverse=True)\n",
    "linreg.print_results(coefs)\n",
    "print(f\"intercept: {reg.intercept_}\")\n"
   ]
  },
  {
   "cell_type": "code",
   "execution_count": null,
   "id": "b1b120c5",
   "metadata": {},
   "outputs": [],
   "source": []
  }
 ],
 "metadata": {
  "kernelspec": {
   "display_name": "Python 3 (ipykernel)",
   "language": "python",
   "name": "python3"
  },
  "language_info": {
   "codemirror_mode": {
    "name": "ipython",
    "version": 3
   },
   "file_extension": ".py",
   "mimetype": "text/x-python",
   "name": "python",
   "nbconvert_exporter": "python",
   "pygments_lexer": "ipython3",
   "version": "3.10.1"
  }
 },
 "nbformat": 4,
 "nbformat_minor": 5
}
