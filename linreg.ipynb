{
 "cells": [
  {
   "cell_type": "code",
   "execution_count": 1,
   "id": "2bd7e2a4",
   "metadata": {},
   "outputs": [],
   "source": [
    "import pandas as pd\n",
    "import ipywidgets as widgets\n",
    "from pandas.api.types import is_numeric_dtype\n",
    "from sklearn.linear_model import LinearRegression\n",
    "\n",
    "class Checkboxes:\n",
    "    def __init__(self, columns):\n",
    "        self.columns = columns\n",
    "        self.checkboxes = {}\n",
    "        self.checkboxes[\"norm\"] = self.create_cols(\"Normalise\")\n",
    "        self.checkboxes[\"drop\"] = self.create_cols(\"Drop\")\n",
    "        self.checkboxes[\"both\"] = widgets.HBox(list(self.checkboxes.values()))\n",
    "        self.SPEC_RAW = []\n",
    "        for cb in self.get_raw(\"norm\"):\n",
    "            cb.value = True\n",
    "\n",
    "    def create_cols(self, name: str):\n",
    "        return widgets.VBox([widgets.Label(value=name)] + [widgets.Checkbox(\n",
    "            value=False,\n",
    "            description=label,\n",
    "            disabled=False,\n",
    "            indent=False) for label in self.columns])\n",
    "\n",
    "    def get_index(self, value: str):\n",
    "        # adjust for the + 1 label!\n",
    "        return list(self.columns).index(value) + 1\n",
    "\n",
    "    def get_widget(self, cb_col: str, label: str):\n",
    "        return self.checkboxes[cb_col].children[self.get_index(label)]\n",
    "\n",
    "    def get_column_names(self, cb_col: str):\n",
    "        return [col for col in self.columns if self.get_widget(cb_col, col).value]\n",
    "\n",
    "    def show(self):\n",
    "        return self.checkboxes[\"both\"]\n",
    "\n",
    "    def is_raw(self, cb):\n",
    "        return cb.description.startswith(\"0x\") or cb.description in self.SPEC_RAW\n",
    "\n",
    "    def get_raw(self, cb_col: str):\n",
    "        cboxes = self.checkboxes[cb_col].children\n",
    "        return [cb for cb in cboxes if self.is_raw(cb)]\n"
   ]
  },
  {
   "cell_type": "code",
   "execution_count": 2,
   "id": "b38164b4",
   "metadata": {},
   "outputs": [
    {
     "data": {
      "application/vnd.jupyter.widget-view+json": {
       "model_id": "1d84798f0c324a1fb8c34f68fe706b9e",
       "version_major": 2,
       "version_minor": 0
      },
      "text/plain": [
       "HBox(children=(VBox(children=(Label(value='Normalise'), Checkbox(value=False, description='Statistics::Executi…"
      ]
     },
     "metadata": {},
     "output_type": "display_data"
    }
   ],
   "source": [
    "import linreg\n",
    "data = linreg.get_numbers(\"~/Sync/all.tsv\", \"~/Sync/polybench.tsv\")\n",
    "checkboxes = Checkboxes(data.columns)\n",
    "checkboxes.show()"
   ]
  },
  {
   "cell_type": "code",
   "execution_count": 3,
   "id": "436924cc",
   "metadata": {},
   "outputs": [
    {
     "name": "stdout",
     "output_type": "stream",
     "text": [
      "Score: 1.0\n",
      "Top:\n",
      "9.557559643e-09 : 0x01a0 (norm)\n",
      "9.198885467e-09 : 0x8010 (norm)\n",
      "8.253655099e-09 : 0x0070 (norm)\n",
      "5.748405295e-09 : 0x0316 (norm)\n",
      "5.651389472e-09 : 0x0391 (norm)\n",
      "\n",
      "Bottom:\n",
      "-6.977669447e-09 : 0x0112 (norm)\n",
      "-7.00640215e-09 : 0x0003 (norm)\n",
      "-9.01453929e-09 : 0x0192 (norm)\n",
      "-1.01445436e-08 : 0x0233 (norm)\n",
      "-1.376474169e-08 : 0x0236 (norm)\n",
      "2.1937088700925953\n"
     ]
    }
   ],
   "source": [
    "norm_cols = checkboxes.get_column_names(\"norm\")\n",
    "drop_cols = checkboxes.get_column_names(\"drop\")\n",
    "X, y = linreg.normalise(data, norm_cols, drop_cols)\n",
    "reg = LinearRegression().fit(X, y)\n",
    "print(f\"Score: {reg.score(X, y)}\")\n",
    "\n",
    "coefs = sorted(zip(X.columns, reg.coef_), key=lambda t: t[1], reverse=True)\n",
    "linreg.print_results(coefs)\n",
    "print(reg.intercept_)\n"
   ]
  },
  {
   "cell_type": "code",
   "execution_count": null,
   "id": "4c94d8c1",
   "metadata": {},
   "outputs": [],
   "source": []
  }
 ],
 "metadata": {
  "kernelspec": {
   "display_name": "Python 3 (ipykernel)",
   "language": "python",
   "name": "python3"
  },
  "language_info": {
   "codemirror_mode": {
    "name": "ipython",
    "version": 3
   },
   "file_extension": ".py",
   "mimetype": "text/x-python",
   "name": "python",
   "nbconvert_exporter": "python",
   "pygments_lexer": "ipython3",
   "version": "3.10.1"
  }
 },
 "nbformat": 4,
 "nbformat_minor": 5
}
